{
 "cells": [
  {
   "cell_type": "markdown",
   "metadata": {},
   "source": [
    "# 3주차 주제\n",
    "\n",
    "+ 포인터 in c\n",
    "+ 연관 컨테이너 in STL"
   ]
  },
  {
   "cell_type": "markdown",
   "metadata": {},
   "source": [
    "## 1. 포인터\n",
    "\n",
    "> __핵심주제__\n",
    "> 1. 깊은 복사와 얕은 복사 ( Deep and shallow )\n",
    "> 2. 참조변수(ex. int&)\n",
    "> 3. 포인터와 참조변수의 차이\n",
    "> 4. 변수의 유효범위와 생성과 소멸 시점 (지역변수, 정적변수, 동적할당된 변수)\n",
    "> 5. 함수의 매개변수를 넘겨받는 방식 (Call by value / by reference)\n",
    "> 6. 함수의 리턴값을 넘겨주는 방식 ( return by value / by adress / by reference )\n",
    "\n",
    "> __ref.__\n",
    "> 1. https://www.geeksforgeeks.org/shallow-copy-and-deep-copy-in-c/\n",
    "> 2. https://www.geeksforgeeks.org/pointers-vs-references-cpp/?ref=lbp\n",
    "> 3. https://www.geeksforgeeks.org/pointers-vs-references-cpp/?ref=lbp\n",
    "> 4. http://tcpschool.com/c/c_function_variableScope\n",
    "> 5. \n",
    "> 6. https://boycoding.tistory.com/219"
   ]
  },
  {
   "cell_type": "markdown",
   "metadata": {},
   "source": [
    "## 2. 연관컨테이너\n",
    "\n",
    "> __핵심주제__\n",
    "> 1. \n"
   ]
  }
 ],
 "metadata": {
  "kernelspec": {
   "display_name": "Python 3",
   "language": "python",
   "name": "python3"
  },
  "language_info": {
   "codemirror_mode": {
    "name": "ipython",
    "version": 3
   },
   "file_extension": ".py",
   "mimetype": "text/x-python",
   "name": "python",
   "nbconvert_exporter": "python",
   "pygments_lexer": "ipython3",
   "version": "3.8.8"
  }
 },
 "nbformat": 4,
 "nbformat_minor": 4
}
