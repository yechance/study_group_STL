{
 "cells": [
  {
   "cell_type": "markdown",
   "metadata": {},
   "source": [
    "# 2주차 주제\n",
    "\n",
    "+ 포인터 in c\n",
    "+ 연관 컨테이너 in STL"
   ]
  },
  {
   "cell_type": "markdown",
   "metadata": {},
   "source": [
    "## 1. 포인터\n",
    "\n",
    "> __핵심주제__\n",
    "> 1. 포인터의 정의와 c 프로그래밍에서의 역할\n",
    "> 2. 포인터 변수에 저장되는 값은 무엇이며, * 연산자와 & 연산자는 어떻게 쓰이는가\n",
    "> 3. 포인터의 데이터형\n",
    "> 4. void 형 포인터의 존재 이유와 프로그래밍에서의 역할\n",
    "> 5. 이중 포인터\n",
    "> 6. 포인터와 참조하는 변수를 메모리 관점에서 이해\n",
    "> 7. 구조체 포인터와 구조체의 멤버를 참조하게 하는 -> 연산자\n",
    "> 8. 포인터와 메모리 동적 할당"
   ]
  },
  {
   "cell_type": "markdown",
   "metadata": {},
   "source": [
    "## 2. 연관컨테이너\n",
    "\n",
    "> __핵심주제__\n",
    "> 1. set과 map의 자료구조를 이해\n",
    "> 2. map에서 key와 value 간의 연결을 이해"
   ]
  }
 ],
 "metadata": {
  "kernelspec": {
   "display_name": "Python 3",
   "language": "python",
   "name": "python3"
  },
  "language_info": {
   "codemirror_mode": {
    "name": "ipython",
    "version": 3
   },
   "file_extension": ".py",
   "mimetype": "text/x-python",
   "name": "python",
   "nbconvert_exporter": "python",
   "pygments_lexer": "ipython3",
   "version": "3.8.3"
  }
 },
 "nbformat": 4,
 "nbformat_minor": 4
}
